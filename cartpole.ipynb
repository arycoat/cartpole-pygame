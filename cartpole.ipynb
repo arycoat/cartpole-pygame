{
 "cells": [
  {
   "cell_type": "code",
   "execution_count": 2,
   "metadata": {
    "collapsed": false,
    "scrolled": true
   },
   "outputs": [
    {
     "name": "stdout",
     "output_type": "stream",
     "text": [
      "\u001b[33mWARN: gym.spaces.Box autodetected dtype as <class 'numpy.float32'>. Please provide explicit dtype.\u001b[0m\n",
      "Transform enable\n",
      "Color enable\n",
      "FilledPoygon render1\n",
      "[(-25.0, -15.0), (-25.0, 15.0), (25.0, 15.0), (25.0, -15.0)]\n",
      "Transform disable\n",
      "Transform enable\n",
      "Transform enable\n",
      "Color enable\n",
      "FilledPoygon render1\n",
      "[(-5.0, -5.0), (-5.0, 120.0), (5.0, 120.0), (5.0, -5.0)]\n",
      "Transform disable\n",
      "Transform disable\n",
      "Transform enable\n",
      "Transform enable\n",
      "Color enable\n",
      "FilledPoygon render1\n",
      "[(5.0, 0.0), (4.8907380036690284, 1.0395584540887965), (4.567727288213004, 2.0336832153790008), (4.045084971874737, 2.938926261462366), (3.345653031794291, 3.7157241273869706), (2.5000000000000004, 4.330127018922193), (1.5450849718747373, 4.755282581475767), (0.5226423163382673, 4.972609476841367), (-0.5226423163382666, 4.972609476841367), (-1.5450849718747368, 4.755282581475768), (-2.499999999999999, 4.330127018922194), (-3.3456530317942894, 3.7157241273869723), (-4.045084971874736, 2.9389262614623664), (-4.567727288213005, 2.0336832153790003), (-4.8907380036690284, 1.0395584540887965), (-5.0, 2.8327694488239896e-15), (-4.8907380036690284, -1.0395584540887954), (-4.567727288213004, -2.033683215379001), (-4.045084971874737, -2.938926261462365), (-3.345653031794292, -3.71572412738697), (-2.500000000000002, -4.330127018922192), (-1.5450849718747377, -4.755282581475767), (-0.5226423163382712, -4.972609476841367), (0.522642316338265, -4.972609476841367), (1.5450849718747361, -4.755282581475768), (2.5000000000000004, -4.330127018922193), (3.345653031794292, -3.71572412738697), (4.045084971874736, -2.938926261462367), (4.567727288213005, -2.0336832153790008), (4.8907380036690284, -1.039558454088795)]\n",
      "Transform disable\n",
      "Transform disable\n",
      "LineWith enable\n",
      "Color enable\n",
      "Line render1\n",
      "Transform disable\n"
     ]
    },
    {
     "data": {
      "text/plain": [
       "True"
      ]
     },
     "execution_count": 2,
     "metadata": {},
     "output_type": "execute_result"
    }
   ],
   "source": [
    "from cartpole import CartPoleEnv\n",
    "\n",
    "env = CartPoleEnv()\n",
    "env.reset()\n",
    "env.render()"
   ]
  },
  {
   "cell_type": "code",
   "execution_count": null,
   "metadata": {
    "collapsed": false
   },
   "outputs": [],
   "source": [
    "from tkinter import *\n",
    "\n",
    "root = Tk()\n",
    "\n",
    "class GUI(Canvas):\n",
    "    '''inherits Canvas class (all Canvas methodes, attributes will be accessible)\n",
    "       You can add your customized methods here.\n",
    "    '''\n",
    "    def __init__(self,master,*args,**kwargs):\n",
    "        Canvas.__init__(self, master=master, *args, **kwargs)\n",
    "\n",
    "polygon = GUI(root)\n",
    "polygon.create_polygon([150,75,225,0,300,75,225,150],     outline='gray', \n",
    "            fill='gray', width=2)\n",
    "\n",
    "polygon.pack()\n",
    "root.mainloop()"
   ]
  }
 ],
 "metadata": {
  "kernelspec": {
   "display_name": "Python 3",
   "language": "python",
   "name": "python3"
  }
 },
 "nbformat": 4,
 "nbformat_minor": 1
}
